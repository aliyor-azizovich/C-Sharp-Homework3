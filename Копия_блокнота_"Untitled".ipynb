{
  "nbformat": 4,
  "nbformat_minor": 0,
  "metadata": {
    "colab": {
      "provenance": [],
      "include_colab_link": true
    },
    "kernelspec": {
      "name": "python3",
      "display_name": "Python 3"
    },
    "language_info": {
      "name": "python"
    }
  },
  "cells": [
    {
      "cell_type": "markdown",
      "metadata": {
        "id": "view-in-github",
        "colab_type": "text"
      },
      "source": [
        "<a href=\"https://colab.research.google.com/github/aliyor-azizovich/C-Sharp-Homework3/blob/main/%D0%9A%D0%BE%D0%BF%D0%B8%D1%8F_%D0%B1%D0%BB%D0%BE%D0%BA%D0%BD%D0%BE%D1%82%D0%B0_%22Untitled%22.ipynb\" target=\"_parent\"><img src=\"https://colab.research.google.com/assets/colab-badge.svg\" alt=\"Open In Colab\"/></a>"
      ]
    },
    {
      "cell_type": "code",
      "source": [
        "# Импортирование необходимых библиотек\n",
        "import datetime\n",
        "import pandas as pd\n",
        "import numpy as np\n",
        "from sklearn.model_selection import train_test_split\n",
        "from sklearn.linear_model import LinearRegression\n",
        "from sklearn.metrics import mean_squared_error\n",
        "import matplotlib.pyplot as plt\n",
        "from sklearn.metrics import mean_absolute_error\n",
        "from datetime import datetime\n",
        "from sklearn.metrics import mean_squared_error, mean_squared_log_error, mean_absolute_error\n",
        "from sklearn.ensemble import RandomForestRegressor\n",
        "from sklearn.metrics import mean_absolute_error, mean_squared_error, r2_score\n",
        "from sklearn.model_selection import train_test_split\n",
        "train_dataset = pd.read_csv('train_dataset.csv')\n",
        "test_dataset = pd.read_csv('test_dataset.csv')\n"
      ],
      "metadata": {
        "id": "k44jrA4DHJLi"
      },
      "execution_count": 4,
      "outputs": []
    },
    {
      "cell_type": "code",
      "source": [
        "columns_to_convert = train_dataset.columns[:-2]  # Исключаем последние два столбца\n",
        "columns_to_convert = test_dataset.columns[:-2]  # Исключаем последние два столбца\n",
        "print(test_dataset.head())"
      ],
      "metadata": {
        "colab": {
          "base_uri": "https://localhost:8080/"
        },
        "id": "zIXwwJzjJfa_",
        "outputId": "6d8a498a-1294-4030-c7e0-206a04ef5d9f"
      },
      "execution_count": 43,
      "outputs": [
        {
          "output_type": "stream",
          "name": "stdout",
          "text": [
            "   date  time      target  temp  temp_pred  weather_pred  weather_fact\n",
            "0   NaN   0.0  479.282013   5.7        5.0           NaN           NaN\n",
            "1   NaN   1.0  445.182007   5.7        5.0           NaN           NaN\n",
            "2   NaN   2.0  424.225006   5.7        5.0           NaN           NaN\n",
            "3   NaN   3.0  413.865997   5.0        4.0           NaN           NaN\n",
            "4   NaN   4.0  408.145996   5.0        4.0           NaN           NaN\n"
          ]
        }
      ]
    },
    {
      "cell_type": "code",
      "source": [
        "\n",
        "# Заменить все нечисловые значения на NaN\n",
        "train_dataset = train_dataset.apply(pd.to_numeric, errors='coerce')\n",
        "test_dataset = test_dataset.apply(pd.to_numeric, errors='coerce')\n",
        "# Теперь все нечисловые значения заменены на NaN"
      ],
      "metadata": {
        "id": "W6gXzvcfJfd0"
      },
      "execution_count": 44,
      "outputs": []
    },
    {
      "cell_type": "code",
      "source": [
        "\n",
        "# Продолжайте с преобразованием в числовой формат и дальнейшей обработкой данных\n",
        "train_dataset = train_dataset.astype('float32')\n",
        "columns_to_convert = train_dataset.columns[:-2]\n",
        "\n",
        "test_dataset = test_dataset.astype('float32')\n",
        "columns_to_convert = test_dataset.columns[:-2]"
      ],
      "metadata": {
        "id": "C05RlE9XKIxg"
      },
      "execution_count": 45,
      "outputs": []
    },
    {
      "cell_type": "code",
      "source": [
        "# Заполнение пропущенных значений средними значениями\n",
        "train_dataset['temp'].fillna(train_dataset['temp'].mean(), inplace=True)\n",
        "test_dataset['temp'].fillna(test_dataset['temp'].mean(), inplace=True)"
      ],
      "metadata": {
        "id": "TMg9c-4JKI0L"
      },
      "execution_count": 46,
      "outputs": []
    },
    {
      "cell_type": "code",
      "source": [
        "# Просмотр данных\n",
        "print(\"Тренировочные данные:\")\n",
        "print(train_dataset.head())\n",
        "\n",
        "print(\"Тестовые данные:\")\n",
        "print(test_dataset.head())\n"
      ],
      "metadata": {
        "colab": {
          "base_uri": "https://localhost:8080/"
        },
        "id": "aABWO4fJKI2o",
        "outputId": "7fe096f6-fbc8-4bea-add1-ce95a5e4a002"
      },
      "execution_count": 47,
      "outputs": [
        {
          "output_type": "stream",
          "name": "stdout",
          "text": [
            "Тренировочные данные:\n",
            "   date  time      target  temp  temp_pred  weather_pred  weather_fact\n",
            "0   NaN   0.0  481.510010   2.9        2.0           NaN           NaN\n",
            "1   NaN   1.0  462.872009   2.9        2.0           NaN           NaN\n",
            "2   NaN   2.0  449.717987   2.9        2.0           NaN           NaN\n",
            "3   NaN   3.0  430.907990   4.3        2.0           NaN           NaN\n",
            "4   NaN   4.0  415.162994   4.3        2.0           NaN           NaN\n",
            "Тестовые данные:\n",
            "   date  time      target  temp  temp_pred  weather_pred  weather_fact\n",
            "0   NaN   0.0  479.282013   5.7        5.0           NaN           NaN\n",
            "1   NaN   1.0  445.182007   5.7        5.0           NaN           NaN\n",
            "2   NaN   2.0  424.225006   5.7        5.0           NaN           NaN\n",
            "3   NaN   3.0  413.865997   5.0        4.0           NaN           NaN\n",
            "4   NaN   4.0  408.145996   5.0        4.0           NaN           NaN\n"
          ]
        }
      ]
    },
    {
      "cell_type": "code",
      "source": [
        "# Теперь выберите числовые признаки для обучения\n",
        "X_train = train_dataset[['temp', 'time']]\n",
        "y_train = train_dataset['target']\n",
        "\n",
        "X_test = test_dataset[['temp', 'time']]\n",
        "y_test = test_dataset['target']"
      ],
      "metadata": {
        "id": "_jhLFxAlKQ-c"
      },
      "execution_count": 48,
      "outputs": []
    },
    {
      "cell_type": "code",
      "source": [
        "# # Случайный лес\n",
        "model_rf = RandomForestRegressor(n_estimators=100, random_state=0)\n",
        "model_rf.fit(X_train, y_train)\n",
        "y_pred_rf = model_rf.predict(X_test)\n"
      ],
      "metadata": {
        "id": "CjIDoLDKwei4"
      },
      "execution_count": 49,
      "outputs": []
    },
    {
      "cell_type": "code",
      "source": [
        "y_pred_rf"
      ],
      "metadata": {
        "colab": {
          "base_uri": "https://localhost:8080/"
        },
        "id": "2qLmZur0K1Or",
        "outputId": "5c6257fc-2c6d-4d29-f913-1bdda7cc625b"
      },
      "execution_count": 51,
      "outputs": [
        {
          "output_type": "execute_result",
          "data": {
            "text/plain": [
              "array([438.93401531, 403.70349219, 382.78487184, ..., 440.81967233,\n",
              "       444.11690219, 421.87179225])"
            ]
          },
          "metadata": {},
          "execution_count": 51
        }
      ]
    },
    {
      "cell_type": "code",
      "source": [
        "# MAPE (Mean Absolute Percentage Error)\n",
        "def calculate_mape(y_true, y_pred):\n",
        "    return np.mean(np.abs((y_true - y_pred) / y_true)) * 100\n",
        "\n",
        "\n",
        "mape_rf = calculate_mape(y_test, y_pred_rf)\n",
        "\n",
        "print(\"MAPE (Random Forest): {:.2f}%\".format(mape_rf))"
      ],
      "metadata": {
        "colab": {
          "base_uri": "https://localhost:8080/"
        },
        "id": "M13pwE15OoA5",
        "outputId": "776d016c-4625-4bd9-f7c1-b5c910f18b75"
      },
      "execution_count": 52,
      "outputs": [
        {
          "output_type": "stream",
          "name": "stdout",
          "text": [
            "MAPE (Random Forest): 6.91%\n"
          ]
        }
      ]
    },
    {
      "cell_type": "code",
      "source": [
        "# R2 score\n",
        "r2_rf = r2_score(y_test, y_pred_rf)\n",
        "\n",
        "print(\"R2 Score (Random Forest): {:.2f}\".format(r2_rf))"
      ],
      "metadata": {
        "colab": {
          "base_uri": "https://localhost:8080/"
        },
        "id": "bx2Ob2u9wnv2",
        "outputId": "b8f14f1f-d7b6-472a-d215-e0a27c22f684"
      },
      "execution_count": 53,
      "outputs": [
        {
          "output_type": "stream",
          "name": "stdout",
          "text": [
            "R2 Score (Random Forest): 0.71\n"
          ]
        }
      ]
    },
    {
      "cell_type": "code",
      "source": [
        "# Вычисление MAE\n",
        "mae = mean_absolute_error(y_test, y_pred_rf)\n",
        "print(\"Mean Absolute Error (MAE):\", mae)"
      ],
      "metadata": {
        "colab": {
          "base_uri": "https://localhost:8080/"
        },
        "id": "Rxr_h58XKYvx",
        "outputId": "4634eaf9-db23-4823-cb77-d47131cc97f2"
      },
      "execution_count": 54,
      "outputs": [
        {
          "output_type": "stream",
          "name": "stdout",
          "text": [
            "Mean Absolute Error (MAE): 27.83119020344161\n"
          ]
        }
      ]
    },
    {
      "cell_type": "code",
      "source": [
        "# Выводим предсказания\n",
        "print(y_pred_rf)"
      ],
      "metadata": {
        "colab": {
          "base_uri": "https://localhost:8080/"
        },
        "id": "QawYGNOA6JUN",
        "outputId": "2244b316-60a6-499b-99d6-df08272deb37"
      },
      "execution_count": 56,
      "outputs": [
        {
          "output_type": "stream",
          "name": "stdout",
          "text": [
            "[438.93401531 403.70349219 382.78487184 ... 440.81967233 444.11690219\n",
            " 421.87179225]\n"
          ]
        }
      ]
    },
    {
      "cell_type": "code",
      "execution_count": null,
      "metadata": {
        "id": "IS6hXPJ3dS1e"
      },
      "outputs": [],
      "source": [
        "\n"
      ]
    }
  ]
}